{
 "cells": [
  {
   "cell_type": "code",
   "execution_count": 1,
   "id": "712f81d2-2796-46e0-8ccc-e89baafcb734",
   "metadata": {},
   "outputs": [
    {
     "name": "stdout",
     "output_type": "stream",
     "text": [
      "Data loaded. First 5 rows:\n",
      "   step      type    amount     nameOrig  oldbalanceOrg  newbalanceOrig  \\\n",
      "0     1   PAYMENT   9839.64  C1231006815       170136.0       160296.36   \n",
      "1     1   PAYMENT   1864.28  C1666544295        21249.0        19384.72   \n",
      "2     1  TRANSFER    181.00  C1305486145          181.0            0.00   \n",
      "3     1  CASH_OUT    181.00   C840083671          181.0            0.00   \n",
      "4     1   PAYMENT  11668.14  C2048537720        41554.0        29885.86   \n",
      "\n",
      "      nameDest  oldbalanceDest  newbalanceDest  isFraud  isFlaggedFraud  \n",
      "0  M1979787155             0.0             0.0        0               0  \n",
      "1  M2044282225             0.0             0.0        0               0  \n",
      "2   C553264065             0.0             0.0        1               0  \n",
      "3    C38997010         21182.0             0.0        1               0  \n",
      "4  M1230701703             0.0             0.0        0               0  \n"
     ]
    }
   ],
   "source": [
    "\n",
    "import pandas as pd\n",
    "import numpy as np\n",
    "import matplotlib.pyplot as plt\n",
    "import seaborn as sns\n",
    "\n",
    "\n",
    "df = pd.read_csv('D:\\Accredian\\Fraud.csv')\n",
    "\n",
    "\n",
    "print(\"Data loaded. First 5 rows:\")\n",
    "print(df.head())"
   ]
  },
  {
   "cell_type": "code",
   "execution_count": 2,
   "id": "1185d697-21fe-4590-9be2-dd614f475951",
   "metadata": {},
   "outputs": [
    {
     "name": "stdout",
     "output_type": "stream",
     "text": [
      "Dataframe Information:\n",
      "<class 'pandas.core.frame.DataFrame'>\n",
      "RangeIndex: 6362620 entries, 0 to 6362619\n",
      "Data columns (total 11 columns):\n",
      " #   Column          Dtype  \n",
      "---  ------          -----  \n",
      " 0   step            int64  \n",
      " 1   type            object \n",
      " 2   amount          float64\n",
      " 3   nameOrig        object \n",
      " 4   oldbalanceOrg   float64\n",
      " 5   newbalanceOrig  float64\n",
      " 6   nameDest        object \n",
      " 7   oldbalanceDest  float64\n",
      " 8   newbalanceDest  float64\n",
      " 9   isFraud         int64  \n",
      " 10  isFlaggedFraud  int64  \n",
      "dtypes: float64(5), int64(3), object(3)\n",
      "memory usage: 534.0+ MB\n",
      "\n",
      "Missing Values per Column:\n",
      "step              0\n",
      "type              0\n",
      "amount            0\n",
      "nameOrig          0\n",
      "oldbalanceOrg     0\n",
      "newbalanceOrig    0\n",
      "nameDest          0\n",
      "oldbalanceDest    0\n",
      "newbalanceDest    0\n",
      "isFraud           0\n",
      "isFlaggedFraud    0\n",
      "dtype: int64\n"
     ]
    }
   ],
   "source": [
    "\n",
    "print(\"Dataframe Information:\")\n",
    "df.info()\n",
    "\n",
    "\n",
    "print(\"\\nMissing Values per Column:\")\n",
    "print(df.isnull().sum())"
   ]
  },
  {
   "cell_type": "code",
   "execution_count": 3,
   "id": "e59ea916-b6fd-4fd0-b328-570dc635a5a9",
   "metadata": {},
   "outputs": [
    {
     "name": "stdout",
     "output_type": "stream",
     "text": [
      "Statistical Summary:\n",
      "               step        amount  oldbalanceOrg  newbalanceOrig  \\\n",
      "count  6.362620e+06  6.362620e+06   6.362620e+06    6.362620e+06   \n",
      "mean   2.433972e+02  1.798619e+05   8.338831e+05    8.551137e+05   \n",
      "std    1.423320e+02  6.038582e+05   2.888243e+06    2.924049e+06   \n",
      "min    1.000000e+00  0.000000e+00   0.000000e+00    0.000000e+00   \n",
      "25%    1.560000e+02  1.338957e+04   0.000000e+00    0.000000e+00   \n",
      "50%    2.390000e+02  7.487194e+04   1.420800e+04    0.000000e+00   \n",
      "75%    3.350000e+02  2.087215e+05   1.073152e+05    1.442584e+05   \n",
      "max    7.430000e+02  9.244552e+07   5.958504e+07    4.958504e+07   \n",
      "\n",
      "       oldbalanceDest  newbalanceDest       isFraud  isFlaggedFraud  \n",
      "count    6.362620e+06    6.362620e+06  6.362620e+06    6.362620e+06  \n",
      "mean     1.100702e+06    1.224996e+06  1.290820e-03    2.514687e-06  \n",
      "std      3.399180e+06    3.674129e+06  3.590480e-02    1.585775e-03  \n",
      "min      0.000000e+00    0.000000e+00  0.000000e+00    0.000000e+00  \n",
      "25%      0.000000e+00    0.000000e+00  0.000000e+00    0.000000e+00  \n",
      "50%      1.327057e+05    2.146614e+05  0.000000e+00    0.000000e+00  \n",
      "75%      9.430367e+05    1.111909e+06  0.000000e+00    0.000000e+00  \n",
      "max      3.560159e+08    3.561793e+08  1.000000e+00    1.000000e+00  \n"
     ]
    }
   ],
   "source": [
    "\n",
    "print(\"Statistical Summary:\")\n",
    "print(df.describe())"
   ]
  },
  {
   "cell_type": "code",
   "execution_count": 4,
   "id": "44846cf6-0e0a-4f38-93f4-713f507c17d6",
   "metadata": {},
   "outputs": [
    {
     "name": "stdout",
     "output_type": "stream",
     "text": [
      "Data after one-hot encoding. Note the new 'type' columns:\n",
      "   step    amount  oldbalanceOrg  newbalanceOrig  oldbalanceDest  \\\n",
      "0     1   9839.64       170136.0       160296.36             0.0   \n",
      "1     1   1864.28        21249.0        19384.72             0.0   \n",
      "2     1    181.00          181.0            0.00             0.0   \n",
      "3     1    181.00          181.0            0.00         21182.0   \n",
      "4     1  11668.14        41554.0        29885.86             0.0   \n",
      "\n",
      "   newbalanceDest  isFraud  isFlaggedFraud  type_CASH_OUT  type_DEBIT  \\\n",
      "0             0.0        0               0          False       False   \n",
      "1             0.0        0               0          False       False   \n",
      "2             0.0        1               0          False       False   \n",
      "3             0.0        1               0           True       False   \n",
      "4             0.0        0               0          False       False   \n",
      "\n",
      "   type_PAYMENT  type_TRANSFER  \n",
      "0          True          False  \n",
      "1          True          False  \n",
      "2         False           True  \n",
      "3         False          False  \n",
      "4          True          False  \n"
     ]
    }
   ],
   "source": [
    "\n",
    "df_prepared = df.drop(['nameOrig', 'nameDest'], axis=1)\n",
    "\n",
    "\n",
    "df_prepared = pd.get_dummies(df_prepared, columns=['type'], prefix='type', drop_first=True)\n",
    "\n",
    "print(\"Data after one-hot encoding. Note the new 'type' columns:\")\n",
    "print(df_prepared.head())"
   ]
  },
  {
   "cell_type": "code",
   "execution_count": 5,
   "id": "8fecf1a2-a6ec-4158-bc0a-d9a7c51dd82e",
   "metadata": {},
   "outputs": [
    {
     "name": "stdout",
     "output_type": "stream",
     "text": [
      "Shape of features (X): (6362620, 10)\n",
      "Shape of target (y): (6362620,)\n"
     ]
    }
   ],
   "source": [
    "\n",
    "X = df_prepared.drop(['isFraud', 'isFlaggedFraud'], axis=1)\n",
    "\n",
    "\n",
    "y = df_prepared['isFraud']\n",
    "\n",
    "print(\"Shape of features (X):\", X.shape)\n",
    "print(\"Shape of target (y):\", y.shape)"
   ]
  },
  {
   "cell_type": "code",
   "execution_count": 7,
   "id": "6d28bab2-afe6-44ba-932b-4647e50dd869",
   "metadata": {},
   "outputs": [
    {
     "name": "stdout",
     "output_type": "stream",
     "text": [
      "Training set size: 5090096\n",
      "Testing set size: 1272524\n"
     ]
    }
   ],
   "source": [
    "from sklearn.model_selection import train_test_split\n",
    "\n",
    "\n",
    "X_train, X_test, y_train, y_test = train_test_split(X, y, test_size=0.2, random_state=42, stratify=y)\n",
    "\n",
    "print(\"Training set size:\", len(X_train))\n",
    "print(\"Testing set size:\", len(X_test))"
   ]
  },
  {
   "cell_type": "code",
   "execution_count": 8,
   "id": "a3f847d6-abf0-47a9-b075-fb61fac82358",
   "metadata": {},
   "outputs": [
    {
     "name": "stdout",
     "output_type": "stream",
     "text": [
      "Training the Random Forest model... This may take several minutes.\n",
      "Model training is complete!\n"
     ]
    }
   ],
   "source": [
    "from sklearn.ensemble import RandomForestClassifier\n",
    "\n",
    "\n",
    "rf_model = RandomForestClassifier(n_estimators=100, random_state=42, n_jobs=-1, class_weight='balanced')\n",
    "\n",
    "\n",
    "print(\"Training the Random Forest model... This may take several minutes.\")\n",
    "rf_model.fit(X_train, y_train)\n",
    "print(\"Model training is complete!\")"
   ]
  },
  {
   "cell_type": "code",
   "execution_count": 9,
   "id": "e02efd19-c8f0-44de-af7a-cb20d86461aa",
   "metadata": {},
   "outputs": [
    {
     "name": "stdout",
     "output_type": "stream",
     "text": [
      "Making predictions on the test set...\n",
      "Predictions complete.\n",
      "\n",
      "Classification Report:\n",
      "              precision    recall  f1-score   support\n",
      "\n",
      "           0       1.00      1.00      1.00   1270881\n",
      "           1       0.98      0.78      0.87      1643\n",
      "\n",
      "    accuracy                           1.00   1272524\n",
      "   macro avg       0.99      0.89      0.94   1272524\n",
      "weighted avg       1.00      1.00      1.00   1272524\n",
      "\n",
      "\n",
      "Confusion Matrix:\n"
     ]
    },
    {
     "data": {
      "image/png": "[encoded data removed]",
      "text/plain": [
       "<Figure size 640x480 with 2 Axes>"
      ]
     },
     "metadata": {},
     "output_type": "display_data"
    }
   ],
   "source": [
    "from sklearn.metrics import classification_report, confusion_matrix, ConfusionMatrixDisplay\n",
    "\n",
    "\n",
    "print(\"Making predictions on the test set...\")\n",
    "y_pred = rf_model.predict(X_test)\n",
    "print(\"Predictions complete.\")\n",
    "\n",
    "\n",
    "print(\"\\nClassification Report:\")\n",
    "print(classification_report(y_test, y_pred))\n",
    "\n",
    "\n",
    "print(\"\\nConfusion Matrix:\")\n",
    "cm = confusion_matrix(y_test, y_pred)\n",
    "disp = ConfusionMatrixDisplay(confusion_matrix=cm)\n",
    "disp.plot()\n",
    "plt.title('Confusion Matrix')\n",
    "plt.show()"
   ]
  },
  {
   "cell_type": "code",
   "execution_count": 10,
   "id": "f64a3315-dfe5-40b1-8516-9c5968706dec",
   "metadata": {},
   "outputs": [
    {
     "name": "stdout",
     "output_type": "stream",
     "text": [
      "Key Factors Predicting Fraud:\n",
      "          feature  importance\n",
      "2   oldbalanceOrg    0.294090\n",
      "1          amount    0.169761\n",
      "3  newbalanceOrig    0.168714\n",
      "9   type_TRANSFER    0.088497\n",
      "0            step    0.062518\n",
      "5  newbalanceDest    0.061060\n",
      "6   type_CASH_OUT    0.055947\n",
      "8    type_PAYMENT    0.054390\n",
      "4  oldbalanceDest    0.044793\n",
      "7      type_DEBIT    0.000230\n"
     ]
    },
    {
     "data": {
      "image/png": "[encoded data removed]",
      "text/plain": [
       "<Figure size 1000x800 with 1 Axes>"
      ]
     },
     "metadata": {},
     "output_type": "display_data"
    }
   ],
   "source": [
    "\n",
    "importances = rf_model.feature_importances_\n",
    "feature_names = X.columns\n",
    "\n",
    "\n",
    "feature_importance_df = pd.DataFrame({'feature': feature_names, 'importance': importances})\n",
    "feature_importance_df = feature_importance_df.sort_values(by='importance', ascending=False)\n",
    "\n",
    "print(\"Key Factors Predicting Fraud:\")\n",
    "print(feature_importance_df)\n",
    "\n",
    "\n",
    "plt.figure(figsize=(10, 8))\n",
    "sns.barplot(x='importance', y='feature', data=feature_importance_df)\n",
    "plt.title('Feature Importance')\n",
    "plt.show()"
   ]
  },
  {
   "cell_type": "markdown",
   "id": "3a62c34f-ce10-45d3-83a3-d0afd9688aba",
   "metadata": {},
   "source": [
    "The task is to execute the process for proactive detection of fraud while answering following questions.\n",
    "1. Data cleaning including missing values, outliers and multi-collinearity.\n",
    "\n",
    "  -> A. First the dataset was checked for missing values but none were found.\n",
    "  \n",
    "  B. Descriptive statistics were generated for all numerical columns to understand their distributions and identify potential outliers, particularly in the amount column.\n",
    "  \n",
    "  C. Identifier columns (nameOrig, nameDest) that do not contribute to predictive patterns were marked for removal.\n",
    "  \n",
    "  D. Finally, the categorical type column was identified for one-hot encoding to convert it into a numerical format suitable for modeling.\n"
   ]
  },
  {
   "cell_type": "markdown",
   "id": "379bb657-fbce-4126-a61d-73685ff1554b",
   "metadata": {},
   "source": [
    "2. Describe your fraud detection model in elaboration.\n",
    "\n",
    "->A Random Forest Classifier was selected for this classification task. This learning method was chosen for its high performance and roboustness in handling complex, non-linear relationships within the data. It build multipele decision trees and merges their output, it reduces overfitting and improves predictive accuracy. \n",
    "\n",
    "\n",
    "\n",
    "\n",
    "\n"
   ]
  },
  {
   "cell_type": "markdown",
   "id": "ba0f3c73-2d8b-44aa-972b-7470effab2d8",
   "metadata": {},
   "source": [
    "3. How did you select variables to be included in the model?\n",
    "\n",
    "->The model's performance was evaluated on the unseen test set, demonstrating strong results:\n",
    "\n",
    "Precision (for fraud class '1'): 0.98. This indicates that when the model predicts a transaction is fraudulent, it is correct 98% of the time, resulting in a very low rate of false positives.\n",
    "Recall (for fraud class '1'): 0.78.\n",
    "Confusion Matrix: The model correctly identified 1,289 fraudulent transactions while incorrectly classifying only 26 legitimate transactions as fraud.  \n",
    "\n",
    "\n",
    "\n"
   ]
  },
  {
   "cell_type": "markdown",
   "id": "2b927dad-f462-4d89-8f11-a667d7b4b2b3",
   "metadata": {},
   "source": [
    "\n",
    "4. Demonstrate the performance of the model by using best set of tools.\n",
    "\n",
    "   -> Precision (for fraud class '1'): 0.98. This indicates that when the model predicts a transaction is fraudulent, it is correct 98% of the time, resulting in a very low       rate of false positives.\n",
    "\n",
    "    -> Recall (for fraud class '1'): 0.78.\n",
    "\n",
    "   -> Confusion Matrix: The model correctly identified 1,289 fraudulent transactions while incorrectly classifying only 26 legitimate transactions as fraud.\n",
    "\n",
    "\n"
   ]
  },
  {
   "cell_type": "markdown",
   "id": "4d2829e4-d6ce-4903-a984-556365ef9431",
   "metadata": {},
   "source": [
    "\n",
    "   \n",
    "5. What are the key factors that predict fraudulent customer?\n",
    "\n",
    "   ->The analysis of the model's feature importances revealed the key factors that predict a fraudulent transaction. In descending order of importance, the top predictors are:\n",
    "\n",
    "     1. oldbalanceOrg\n",
    "\n",
    "     2. amount\n",
    "\n",
    "     3. newbalanceOrig\n",
    "\n",
    "     4. type_TRANSFER\n",
    "\n",
    "     5. step\n",
    "\n",
    "\n"
   ]
  },
  {
   "cell_type": "markdown",
   "id": "19e86b56-1471-4416-8af4-32597e966425",
   "metadata": {},
   "source": [
    "\n",
    "6. Do these factors make sense? If yes, How? If not, How not?\n",
    "\n",
    "-> Yes, these factors are highly plausible and align with logical patterns of fraudulent behavior. The top three features (oldbalanceOrg, amount, newbalanceOrig) are critical in identifying transactions that empty or nearly empty an account. The high importance of type_TRANSFER directly corresponds with the fraudulent method described in the data dictionary, where agents \"try to empty the funds by transferring to another account and then cashing out of the system\"\n",
    "\n",
    "\n"
   ]
  },
  {
   "cell_type": "markdown",
   "id": "fc973365-d29b-4d3c-a235-152cfe2dfc66",
   "metadata": {},
   "source": [
    "\n",
    "7. What kind of prevention should be adopted while company update its infrastructure?\n",
    "\n",
    "-> Based on the model's findings, the following prevention strategy is recommended:\n",
    "\n",
    "Implement a real-time transaction monitoring rule. This rule should flag any TRANSFER transaction where the amount exceeds a significant percentage (e.g., 90%) of the oldbalanceOrg. Such flagged transactions should be subjected to mandatory secondary authentication (e.g., SMS code) before execution.\n",
    "\n",
    "\n"
   ]
  },
  {
   "cell_type": "markdown",
   "id": "7430aaec-5bd7-481f-a362-7327de5144bc",
   "metadata": {},
   "source": [
    "\n",
    "8. Assuming these actions have been implemented, how would you determine if they work?\n",
    "\n",
    "    The success of the new prevention strategy would be measured by tracking key performance indicators (KPIs) over time:\n",
    "\n",
    "    Primary Metric: Monitor the monthly rate and volume of fraudulent TRANSFER transactions. A successful implementation will result in a significant decrease.\n",
    "\n",
    "    Secondary Metric: Track metrics related to customer friction, such as the number of support inquiries regarding delayed or blocked transactions, to ensure the new rule does not unduly impact legitimate users."
   ]
  },
  {
   "cell_type": "code",
   "execution_count": null,
   "id": "e12b2b17-4953-4468-b911-8a3a00781b69",
   "metadata": {},
   "outputs": [],
   "source": []
  }
 ],
 "metadata": {
  "kernelspec": {
   "display_name": "Python [conda env:base] *",
   "language": "python",
   "name": "conda-base-py"
  },
  "language_info": {
   "codemirror_mode": {
    "name": "ipython",
    "version": 3
   },
   "file_extension": ".py",
   "mimetype": "text/x-python",
   "name": "python",
   "nbconvert_exporter": "python",
   "pygments_lexer": "ipython3",
   "version": "3.13.5"
  }
 },
 "nbformat": 4,
 "nbformat_minor": 5
}
